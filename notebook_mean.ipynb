{
 "cells": [
  {
   "cell_type": "code",
   "execution_count": 63,
   "metadata": {},
   "outputs": [],
   "source": [
    "import numpy as np\n",
    "import pandas as pd\n",
    "import seaborn as sns\n",
    "import matplotlib.pyplot as plt"
   ]
  },
  {
   "cell_type": "code",
   "execution_count": 2,
   "metadata": {},
   "outputs": [],
   "source": [
    "path_D = '/mnt/Almacenamiento/ODOC_segmentation/predicted/ModelM/DRISHTI_SEGMENTATION_ModelM.txt'\n",
    "path_R = '/mnt/Almacenamiento/ODOC_segmentation/predicted/ModelM/REFUGE_SEGMENTATION_ModelM.txt'\n",
    "path_O = '/mnt/Almacenamiento/ODOC_segmentation/predicted/ModelM/ORIGA_SEGMENTATION_ModelM.txt'\n",
    "path_R3 = '/mnt/Almacenamiento/ODOC_segmentation/predicted/ModelM/RIM_ONE3_SEGMENTATION_ModelM.txt'\n",
    "\n"
   ]
  },
  {
   "cell_type": "code",
   "execution_count": 24,
   "metadata": {},
   "outputs": [
    {
     "name": "stdout",
     "output_type": "stream",
     "text": [
      "DRISHTI MEAN: OD 0.9706361153039168 0.012667738115687478  OC  0.9141697172233758 0.05991800132002294\n"
     ]
    }
   ],
   "source": [
    "dice_OD = []\n",
    "dice_OC = []\n",
    "dice_ODint = []\n",
    "\n",
    "f = open(path_D, \"r\")\n",
    "for linea in f:\n",
    "    name,oc,od,avg = linea.split(':')\n",
    "    oc=oc.replace('Dice OD','')\n",
    "    dice_OC.append(float(oc))\n",
    "\n",
    "    od= od.replace('Dice AVG','')\n",
    "    dice_OD.append(float(od))\n",
    "f.close()\n",
    "\n",
    "print('DRISHTI MEAN: OD', np.mean(dice_OD), np.std(dice_OD), ' OC ', np.mean(dice_OC), np.std(dice_OC))"
   ]
  },
  {
   "cell_type": "code",
   "execution_count": 25,
   "metadata": {},
   "outputs": [],
   "source": [
    "DRISHTI_dice = {'OD_DICE': dice_OD, 'OC_DICE': dice_OC}\n",
    "df_DRISHTI = pd.DataFrame(data=DRISHTI_dice)\n"
   ]
  },
  {
   "cell_type": "code",
   "execution_count": 26,
   "metadata": {},
   "outputs": [
    {
     "name": "stdout",
     "output_type": "stream",
     "text": [
      "REFUGE MEAN: OD 0.9562947527751098 0.02198450796629478  OC  0.9023095136627876 0.05274485509015482\n"
     ]
    }
   ],
   "source": [
    "dice_OD = []\n",
    "dice_OC = []\n",
    "dice_ODint = []\n",
    "\n",
    "f = open(path_R, \"r\")\n",
    "for linea in f:\n",
    "    name,oc,od,avg = linea.split(':')\n",
    "    oc=oc.replace('Dice OD','')\n",
    "    dice_OC.append(float(oc))\n",
    "\n",
    "    od= od.replace('Dice AVG','')\n",
    "    dice_OD.append(float(od))\n",
    "f.close()\n",
    "\n",
    "print('REFUGE MEAN: OD', np.mean(dice_OD), np.std(dice_OD), ' OC ', np.mean(dice_OC), np.std(dice_OC))"
   ]
  },
  {
   "cell_type": "code",
   "execution_count": 27,
   "metadata": {},
   "outputs": [],
   "source": [
    "REFUGE_dice = {'OD_DICE': dice_OD, 'OC_DICE': dice_OC}\n",
    "df_REFUGE = pd.DataFrame(data=REFUGE_dice)\n",
    "\n"
   ]
  },
  {
   "cell_type": "code",
   "execution_count": 28,
   "metadata": {},
   "outputs": [
    {
     "name": "stdout",
     "output_type": "stream",
     "text": [
      "ORIGA MEAN: OD 0.9500373178561606 0.03768524652310942  OC  0.8951709898809225 0.06634831034332307\n"
     ]
    }
   ],
   "source": [
    "dice_OD = []\n",
    "dice_OC = []\n",
    "dice_ODint = []\n",
    "\n",
    "f = open(path_O, \"r\")\n",
    "for linea in f:\n",
    "    name,oc,od,avg = linea.split(':')\n",
    "    oc=oc.replace('Dice OD','')\n",
    "    dice_OC.append(float(oc))\n",
    "\n",
    "    od= od.replace('Dice AVG','')\n",
    "    dice_OD.append(float(od))\n",
    "f.close()\n",
    "\n",
    "print('ORIGA MEAN: OD', np.mean(dice_OD), np.std(dice_OD), ' OC ', np.mean(dice_OC), np.std(dice_OC))"
   ]
  },
  {
   "cell_type": "code",
   "execution_count": 29,
   "metadata": {},
   "outputs": [],
   "source": [
    "ORIGA_dice = {'OD_DICE': dice_OD, 'OC_DICE': dice_OC}\n",
    "df_ORIGA = pd.DataFrame(data=ORIGA_dice)\n"
   ]
  },
  {
   "cell_type": "code",
   "execution_count": 30,
   "metadata": {},
   "outputs": [
    {
     "name": "stdout",
     "output_type": "stream",
     "text": [
      "RIMONE MEAN: OD 0.9203021148206425 0.06858039657651499  OC  0.8445962598535883 0.09781948344457533\n"
     ]
    }
   ],
   "source": [
    "dice_OD = []\n",
    "dice_OC = []\n",
    "dice_ODint = []\n",
    "\n",
    "f = open(path_R3, \"r\")\n",
    "for linea in f:\n",
    "    name,oc,od,avg = linea.split(':')\n",
    "    oc=oc.replace('Dice OD','')\n",
    "    dice_OC.append(float(oc))\n",
    "\n",
    "    od= od.replace('Dice AVG','')\n",
    "    dice_OD.append(float(od))\n",
    "f.close()\n",
    "\n",
    "print('RIMONE MEAN: OD', np.mean(dice_OD), np.std(dice_OD), ' OC ', np.mean(dice_OC), np.std(dice_OC))"
   ]
  },
  {
   "cell_type": "code",
   "execution_count": 31,
   "metadata": {},
   "outputs": [],
   "source": [
    "\n",
    "RIMONE3_dice = {'OD_DICE': dice_OD, 'OC_DICE': dice_OC}\n",
    "df_RIMONE = pd.DataFrame(data=RIMONE3_dice)"
   ]
  },
  {
   "cell_type": "code",
   "execution_count": 40,
   "metadata": {},
   "outputs": [
    {
     "data": {
      "text/plain": [
       "Text(0.5, 1.0, 'OD Dice')"
      ]
     },
     "execution_count": 40,
     "metadata": {},
     "output_type": "execute_result"
    },
    {
     "data": {
      "image/png": "[encoded data removed]",
      "text/plain": [
       "<Figure size 432x288 with 1 Axes>"
      ]
     },
     "metadata": {},
     "output_type": "display_data"
    }
   ],
   "source": [
    "palet = [sns.xkcd_rgb[\"denim blue\"],sns.xkcd_rgb[\"clay\"],sns.xkcd_rgb[\"light maroon\"],sns.xkcd_rgb[\"dark cyan\"]]\n",
    "\n",
    "sns.set_theme(style=\"whitegrid\")\n",
    "ax = sns.boxplot(data=(DRISHTI_dice['OD_DICE'],REFUGE_dice['OD_DICE'],ORIGA_dice['OD_DICE'],RIMONE3_dice['OD_DICE']),\n",
    "    palette=palet)\n",
    "ax.set_title('OD Dice')"
   ]
  },
  {
   "cell_type": "code",
   "execution_count": 39,
   "metadata": {},
   "outputs": [
    {
     "data": {
      "text/plain": [
       "Text(0.5, 1.0, 'OC Dice')"
      ]
     },
     "execution_count": 39,
     "metadata": {},
     "output_type": "execute_result"
    },
    {
     "data": {
      "image/png": "[encoded data removed]",
      "text/plain": [
       "<Figure size 432x288 with 1 Axes>"
      ]
     },
     "metadata": {},
     "output_type": "display_data"
    }
   ],
   "source": [
    "sns.set_theme(style=\"whitegrid\")\n",
    "ax = sns.boxplot(data=(DRISHTI_dice['OC_DICE'],REFUGE_dice['OC_DICE'],ORIGA_dice['OC_DICE'],RIMONE3_dice['OC_DICE']),palette=palet)\n",
    "ax.set_title('OC Dice')"
   ]
  },
  {
   "cell_type": "code",
   "execution_count": null,
   "metadata": {},
   "outputs": [],
   "source": [
    "datasets = ['DRISHTI', 'REFUGE', 'RIM_ONE_V3','ORIGA']\n",
    "\n",
    "final_df = pd.DataFrame()\n",
    "final_df['Dataset']=datasets\n",
    "\n",
    "final_df['MAE']= [np.mean(D_dice_OD),np.mean(dic),r3MAE,oMAE]"
   ]
  },
  {
   "cell_type": "code",
   "execution_count": 43,
   "metadata": {},
   "outputs": [
    {
     "name": "stdout",
     "output_type": "stream",
     "text": [
      "DRISHTI MEAN: OD 0.9706361153039168 0.012667738115687478  OC  0.9141697172233758 0.05991800132002294\n"
     ]
    }
   ],
   "source": [
    "path_D = '/mnt/Almacenamiento/ODOC_segmentation/predicted/ModelM/DRISHTITEST_SEGMENTATION_ModelM.txt'\n",
    "dice_OD = []\n",
    "dice_OC = []\n",
    "dice_ODint = []\n",
    "\n",
    "f = open(path_D, \"r\")\n",
    "for linea in f:\n",
    "    name,oc,od,avg,od_int= linea.split(':')\n",
    "    oc=oc.replace('Dice OD','')\n",
    "    dice_OC.append(float(oc))\n",
    "\n",
    "    od= od.replace('Dice AVG','')\n",
    "    dice_OD.append(float(od))\n",
    "    \n",
    "    od_int.replace(' ','')\n",
    "    dice_ODint.append(float(od_int))\n",
    "f.close()\n",
    "\n",
    "print('DRISHTI MEAN: OD', np.mean(dice_OD), np.std(dice_OD), ' OC ', np.mean(dice_OC), np.std(dice_OC))"
   ]
  },
  {
   "cell_type": "code",
   "execution_count": 46,
   "metadata": {},
   "outputs": [],
   "source": [
    "datasets = ['DRISHTI', 'REFUGE', 'RIM_ONE_V3','ORIGA']\n",
    "\n",
    "drishti_df = pd.DataFrame()\n",
    "drishti_df['OD int']=dice_ODint\n",
    "drishti_df['OD']=dice_OD\n",
    "drishti_df['OC']=dice_OC\n"
   ]
  },
  {
   "cell_type": "code",
   "execution_count": 49,
   "metadata": {},
   "outputs": [
    {
     "data": {
      "text/plain": [
       "Text(0.5, 1.0, 'DRISHTI')"
      ]
     },
     "execution_count": 49,
     "metadata": {},
     "output_type": "execute_result"
    },
    {
     "data": {
      "image/png": "[encoded data removed]",
      "text/plain": [
       "<Figure size 432x288 with 1 Axes>"
      ]
     },
     "metadata": {},
     "output_type": "display_data"
    }
   ],
   "source": [
    "palletes = [sns.xkcd_rgb[\"light blue\"], sns.xkcd_rgb[\"sky blue\"],sns.xkcd_rgb[\"denim blue\"]]\n",
    "sns.set_theme(style=\"whitegrid\")\n",
    "ax = sns.boxplot(data=drishti_df,palette=palletes)\n",
    "ax.set_title('DRISHTI')"
   ]
  },
  {
   "cell_type": "code",
   "execution_count": 52,
   "metadata": {},
   "outputs": [
    {
     "name": "stdout",
     "output_type": "stream",
     "text": [
      "REFUGE MEAN: OD 0.9562947527751098 0.02198450796629478  OC  0.9023095136627876 0.05274485509015482\n"
     ]
    }
   ],
   "source": [
    "path_D = '/mnt/Almacenamiento/ODOC_segmentation/predicted/ModelM/REFUGETEST_SEGMENTATION_ModelM.txt'\n",
    "dice_OD = []\n",
    "dice_OC = []\n",
    "dice_ODint = []\n",
    "\n",
    "f = open(path_D, \"r\")\n",
    "for linea in f:\n",
    "    name,oc,od,avg,od_int= linea.split(':')\n",
    "    oc=oc.replace('Dice OD','')\n",
    "    dice_OC.append(float(oc))\n",
    "\n",
    "    od= od.replace('Dice AVG','')\n",
    "    dice_OD.append(float(od))\n",
    "    \n",
    "    od_int.replace(' ','')\n",
    "    dice_ODint.append(float(od_int))\n",
    "f.close()\n",
    "\n",
    "print('REFUGE MEAN: OD', np.mean(dice_OD), np.std(dice_OD), ' OC ', np.mean(dice_OC), np.std(dice_OC))"
   ]
  },
  {
   "cell_type": "code",
   "execution_count": 57,
   "metadata": {},
   "outputs": [
    {
     "data": {
      "text/plain": [
       "Text(0.5, 1.0, 'REFUGE')"
      ]
     },
     "execution_count": 57,
     "metadata": {},
     "output_type": "execute_result"
    },
    {
     "data": {
      "image/png": "[encoded data removed]",
      "text/plain": [
       "<Figure size 432x288 with 1 Axes>"
      ]
     },
     "metadata": {},
     "output_type": "display_data"
    }
   ],
   "source": [
    "refuge_df = pd.DataFrame()\n",
    "names=[]\n",
    "\n",
    "refuge_df['OD int']=dice_ODint\n",
    "refuge_df['OD']=dice_OD\n",
    "refuge_df['OC']=dice_OC\n",
    "\n",
    "#palletes = [sns.xkcd_rgb[\"pale orange\"], sns.xkcd_rgb[\"pumpkin\"],sns.xkcd_rgb[\"terracotta\"]]\n",
    "palletes = [sns.xkcd_rgb[\"pale orange\"], sns.xkcd_rgb[\"pumpkin\"],sns.xkcd_rgb[\"light blue\"], sns.xkcd_rgb[\"sky blue\"]]\n",
    "\n",
    "sns.set_theme(style=\"whitegrid\")\n",
    "ax = sns.boxplot(data=(refuge_df['OD int'], refuge_df['OD'], drishti_df['OD int'], drishti_df['OD']),palette=palletes)\n",
    "ax.set_title('REFUGE')"
   ]
  },
  {
   "cell_type": "code",
   "execution_count": 58,
   "metadata": {},
   "outputs": [
    {
     "name": "stdout",
     "output_type": "stream",
     "text": [
      "ORIGA MEAN: OD 0.9500373178561606 0.03768524652310942  OC  0.8951709898809225 0.06634831034332307\n"
     ]
    }
   ],
   "source": [
    "path_D = '/mnt/Almacenamiento/ODOC_segmentation/predicted/ModelM/ORIGATEST_SEGMENTATION_ModelM.txt'\n",
    "dice_OD = []\n",
    "dice_OC = []\n",
    "dice_ODint = []\n",
    "\n",
    "f = open(path_D, \"r\")\n",
    "for linea in f:\n",
    "    name,oc,od,avg,od_int= linea.split(':')\n",
    "    oc=oc.replace('Dice OD','')\n",
    "    dice_OC.append(float(oc))\n",
    "\n",
    "    od= od.replace('Dice AVG','')\n",
    "    dice_OD.append(float(od))\n",
    "    \n",
    "    od_int.replace(' ','')\n",
    "    dice_ODint.append(float(od_int))\n",
    "f.close()\n",
    "\n",
    "print('ORIGA MEAN: OD', np.mean(dice_OD), np.std(dice_OD), ' OC ', np.mean(dice_OC), np.std(dice_OC))"
   ]
  },
  {
   "cell_type": "code",
   "execution_count": 59,
   "metadata": {},
   "outputs": [],
   "source": [
    "origa_df = pd.DataFrame()\n",
    "names=[]\n",
    "\n",
    "origa_df['OD int']=dice_ODint\n",
    "origa_df['OD']=dice_OD\n",
    "origa_df['OC']=dice_OC"
   ]
  },
  {
   "cell_type": "code",
   "execution_count": 60,
   "metadata": {},
   "outputs": [
    {
     "name": "stdout",
     "output_type": "stream",
     "text": [
      "RIM ONE MEAN: OD 0.9203021148206425 0.06858039657651499  OC  0.8445962598535883 0.09781948344457533\n"
     ]
    }
   ],
   "source": [
    "path_D = '/mnt/Almacenamiento/ODOC_segmentation/predicted/ModelM/RIMONETEST_SEGMENTATION_ModelM.txt'\n",
    "dice_OD = []\n",
    "dice_OC = []\n",
    "dice_ODint = []\n",
    "\n",
    "f = open(path_D, \"r\")\n",
    "for linea in f:\n",
    "    name,oc,od,avg,od_int= linea.split(':')\n",
    "    oc=oc.replace('Dice OD','')\n",
    "    dice_OC.append(float(oc))\n",
    "\n",
    "    od= od.replace('Dice AVG','')\n",
    "    dice_OD.append(float(od))\n",
    "    \n",
    "    od_int.replace(' ','')\n",
    "    dice_ODint.append(float(od_int))\n",
    "f.close()\n",
    "\n",
    "print('RIM ONE MEAN: OD', np.mean(dice_OD), np.std(dice_OD), ' OC ', np.mean(dice_OC), np.std(dice_OC))"
   ]
  },
  {
   "cell_type": "code",
   "execution_count": 71,
   "metadata": {},
   "outputs": [],
   "source": [
    "rimone_df = pd.DataFrame()\n",
    "names=[]\n",
    "\n",
    "rimone_df['OD int']=dice_ODint\n",
    "rimone_df['OD']=dice_OD\n",
    "rimone_df['OC']=dice_OC"
   ]
  },
  {
   "cell_type": "code",
   "execution_count": 79,
   "metadata": {},
   "outputs": [
    {
     "data": {
      "text/plain": [
       "Text(0.5, 1.0, 'OD segmentation')"
      ]
     },
     "execution_count": 79,
     "metadata": {},
     "output_type": "execute_result"
    },
    {
     "data": {
      "image/png": "[encoded data removed]",
      "text/plain": [
       "<Figure size 1440x720 with 1 Axes>"
      ]
     },
     "metadata": {},
     "output_type": "display_data"
    }
   ],
   "source": [
    "refuge_df = pd.DataFrame()\n",
    "names=[]\n",
    "fig=plt.figure(figsize=(20,10))\n",
    "refuge_df['OD int']=dice_ODint\n",
    "refuge_df['OD']=dice_OD\n",
    "refuge_df['OC']=dice_OC\n",
    "\n",
    "#palletes = [sns.xkcd_rgb[\"pale orange\"], sns.xkcd_rgb[\"pumpkin\"],sns.xkcd_rgb[\"terracotta\"]]\n",
    "palletes = [sns.xkcd_rgb[\"light blue\"], sns.xkcd_rgb[\"sky blue\"], sns.xkcd_rgb[\"pale orange\"], sns.xkcd_rgb[\"pumpkin\"], sns.xkcd_rgb['pale red'],\n",
    "    sns.xkcd_rgb['burnt umber'],sns.xkcd_rgb['jade'],sns.xkcd_rgb['dark aqua']]\n",
    "\n",
    "sns.set_theme(style=\"whitegrid\")\n",
    "ax = sns.boxplot(data=(drishti_df['OD int'], drishti_df['OD'], refuge_df['OD int'], refuge_df['OD'], origa_df['OD int'], origa_df['OD'], rimone_df['OD int'], rimone_df['OD']),palette=palletes)\n",
    "ax.set_title('OD segmentation')"
   ]
  },
  {
   "cell_type": "code",
   "execution_count": 83,
   "metadata": {},
   "outputs": [
    {
     "data": {
      "text/plain": [
       "Text(0.5, 1.0, 'OC')"
      ]
     },
     "execution_count": 83,
     "metadata": {},
     "output_type": "execute_result"
    },
    {
     "data": {
      "image/png": "[encoded data removed]",
      "text/plain": [
       "<Figure size 432x288 with 1 Axes>"
      ]
     },
     "metadata": {},
     "output_type": "display_data"
    }
   ],
   "source": [
    "#palletes = [sns.xkcd_rgb[\"pale orange\"], sns.xkcd_rgb[\"pumpkin\"],sns.xkcd_rgb[\"terracotta\"]]\n",
    "palletes = [ sns.xkcd_rgb[\"dull blue\"], sns.xkcd_rgb[\"pumpkin\"], \n",
    "    sns.xkcd_rgb['burnt umber'],sns.xkcd_rgb['dark aqua']]\n",
    "\n",
    "sns.set_theme(style=\"whitegrid\")\n",
    "ax = sns.boxplot(data=(drishti_df['OC'], refuge_df['OC'], origa_df['OC'], rimone_df['OC']),palette=palletes)\n",
    "ax.set_title('OC')"
   ]
  }
 ],
 "metadata": {
  "interpreter": {
   "hash": "4732cb49e2e401ab2d5e0b1def28f2d73f5004b2b1e8b6a5afce3064d01e185d"
  },
  "kernelspec": {
   "display_name": "Python 3.8.8 ('base')",
   "language": "python",
   "name": "python3"
  },
  "language_info": {
   "codemirror_mode": {
    "name": "ipython",
    "version": 3
   },
   "file_extension": ".py",
   "mimetype": "text/x-python",
   "name": "python",
   "nbconvert_exporter": "python",
   "pygments_lexer": "ipython3",
   "version": "3.8.8"
  },
  "orig_nbformat": 4
 },
 "nbformat": 4,
 "nbformat_minor": 2
}
