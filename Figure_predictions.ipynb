{
 "cells": [
  {
   "cell_type": "markdown",
   "metadata": {},
   "source": [
    "#  prediction\n",
    "se observaran las predicciones obtenidas despues de pasar por ambos modelos"
   ]
  },
  {
   "cell_type": "code",
   "execution_count": 7,
   "metadata": {},
   "outputs": [],
   "source": [
    "import glob\n",
    "import matplotlib.pyplot as plt\n",
    "from PIL import Image"
   ]
  },
  {
   "cell_type": "code",
   "execution_count": 8,
   "metadata": {},
   "outputs": [],
   "source": [
    "OD_paths = '/mnt/Almacenamiento/ODOC_segmentation/predicted/DRISHTI/OD'\n",
    "OC_paths = '/mnt/Almacenamiento/ODOC_segmentation/predicted/DRISHTI/OC'\n",
    "imgs_paths = '/mnt/Almacenamiento/ODOC_segmentation/data/images/DRISHTI/Test'"
   ]
  },
  {
   "cell_type": "code",
   "execution_count": 9,
   "metadata": {},
   "outputs": [],
   "source": [
    "ODs = []\n",
    "OCs = []\n",
    "imgs = []\n",
    "\n",
    "for path in sorted(glob.glob(OD_paths + '/*.png')):\n",
    "    ODs.append(path)\n",
    "\n",
    "for path in sorted(glob.glob(OC_paths + '/*.png')):\n",
    "    OCs.append(path)\n",
    "\n",
    "for path in sorted(glob.glob(imgs_paths + '/*.png')):\n",
    "    imgs.append(path)"
   ]
  },
  {
   "cell_type": "code",
   "execution_count": 14,
   "metadata": {},
   "outputs": [
    {
     "ename": "IndexError",
     "evalue": "index 10 is out of bounds for axis 0 with size 10",
     "output_type": "error",
     "traceback": [
      "\u001b[0;31m---------------------------------------------------------------------------\u001b[0m",
      "\u001b[0;31mIndexError\u001b[0m                                Traceback (most recent call last)",
      "\u001b[1;32m/mnt/Almacenamiento/ODOC_segmentation/codigo/Figure_predictions.ipynb Cell 5'\u001b[0m in \u001b[0;36m<cell line: 4>\u001b[0;34m()\u001b[0m\n\u001b[1;32m      <a href='vscode-notebook-cell:/mnt/Almacenamiento/ODOC_segmentation/codigo/Figure_predictions.ipynb#ch0000004?line=1'>2</a>\u001b[0m subfigs \u001b[39m=\u001b[39m fig\u001b[39m.\u001b[39msubfigures(\u001b[39m10\u001b[39m, \u001b[39m1\u001b[39m)\n\u001b[1;32m      <a href='vscode-notebook-cell:/mnt/Almacenamiento/ODOC_segmentation/codigo/Figure_predictions.ipynb#ch0000004?line=3'>4</a>\u001b[0m \u001b[39mfor\u001b[39;00m i \u001b[39min\u001b[39;00m \u001b[39mrange\u001b[39m(\u001b[39m10\u001b[39m,\u001b[39m19\u001b[39m):\n\u001b[0;32m----> <a href='vscode-notebook-cell:/mnt/Almacenamiento/ODOC_segmentation/codigo/Figure_predictions.ipynb#ch0000004?line=4'>5</a>\u001b[0m     (ax1, ax2, ax3,ax4) \u001b[39m=\u001b[39m subfigs[i]\u001b[39m.\u001b[39msubplots(\u001b[39m1\u001b[39m,\u001b[39m4\u001b[39m)\n\u001b[1;32m      <a href='vscode-notebook-cell:/mnt/Almacenamiento/ODOC_segmentation/codigo/Figure_predictions.ipynb#ch0000004?line=5'>6</a>\u001b[0m     im1 \u001b[39m=\u001b[39m Image\u001b[39m.\u001b[39mopen(imgs[i])\n\u001b[1;32m      <a href='vscode-notebook-cell:/mnt/Almacenamiento/ODOC_segmentation/codigo/Figure_predictions.ipynb#ch0000004?line=6'>7</a>\u001b[0m     ax1\u001b[39m.\u001b[39mimshow(im1)\n",
      "\u001b[0;31mIndexError\u001b[0m: index 10 is out of bounds for axis 0 with size 10"
     ]
    },
    {
     "data": {
      "text/plain": [
       "<Figure size 1440x2880 with 0 Axes>"
      ]
     },
     "metadata": {},
     "output_type": "display_data"
    }
   ],
   "source": [
    "fig = plt.figure(constrained_layout=True,figsize=(20, 40))\n",
    "subfigs = fig.subfigures(10, 1)\n",
    "\n",
    "sf = 0\n",
    "for i in range(10,19):\n",
    "    (ax1, ax2, ax3,ax4) = subfigs[sf].subplots(1,4)\n",
    "    im1 = Image.open(imgs[i])\n",
    "    ax1.imshow(im1)\n",
    "\n",
    "    im2 = Image.open(ODs[i])\n",
    "    ax2.imshow(im2)\n",
    "\n",
    "    im3 = Image.open(OCs[i])\n",
    "    ax3.imshow(im3)\n",
    "    \n",
    "    ax4.imshow(im1)\n",
    "    ax4.imshow(im2, alpha=0.2)\n",
    "    ax4.imshow(im3, alpha=0.2)\n",
    "    sf += 1\n",
    "\n",
    "    "
   ]
  }
 ],
 "metadata": {
  "interpreter": {
   "hash": "1fa392e5060ec9c6da8d2dc0147a263826c21c6511f83c4a1912db95507dc2a5"
  },
  "kernelspec": {
   "display_name": "Python 3.9.10 ('ODOC_seg')",
   "language": "python",
   "name": "python3"
  },
  "language_info": {
   "codemirror_mode": {
    "name": "ipython",
    "version": 3
   },
   "file_extension": ".py",
   "mimetype": "text/x-python",
   "name": "python",
   "nbconvert_exporter": "python",
   "pygments_lexer": "ipython3",
   "version": "3.9.10"
  },
  "orig_nbformat": 4
 },
 "nbformat": 4,
 "nbformat_minor": 2
}
