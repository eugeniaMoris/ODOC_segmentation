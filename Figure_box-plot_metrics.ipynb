{
 "cells": [
  {
   "cell_type": "markdown",
   "metadata": {},
   "source": [
    "# Figure box-plot metrics\n",
    "\n",
    "La idea es generar boxplot the las matricas de cada modelo al testear sobre distintos datasets.\n",
    "Tambien generar una matris que nos muetre la comparacion entre modelos y testeo\n",
    "\n",
    "A partir de las imagenes de segmentacion guardadas en la ruta *ODOC_segmentation/predicted* donde tengo la segmentacion del disco y la copa por separado con el mismo nombre de la imagen. separado pro datasets\n"
   ]
  },
  {
   "cell_type": "code",
   "execution_count": 58,
   "metadata": {},
   "outputs": [],
   "source": [
    "import matplotlib.pyplot as plt\n",
    "import seaborn as sns\n",
    "from sklearn.metrics import f1_score,accuracy_score,precision_score,recall_score\n",
    "import glob\n",
    "import ntpath\n",
    "import pandas as pd\n",
    "import imageio as io\n",
    "import numpy as np\n",
    "from PIL import Image\n",
    "from skimage.transform import resize\n",
    "from skimage import filters, measure"
   ]
  },
  {
   "cell_type": "code",
   "execution_count": 59,
   "metadata": {},
   "outputs": [],
   "source": [
    "predict_path = '/mnt/Almacenamiento/ODOC_segmentation/predicted/ModelM/'\n",
    "data_path = '/mnt/Almacenamiento/ODOC_segmentation/data/'\n",
    "dataset_predicted = 'DRISHTI'\n",
    "dataset_to_train = 'DRISHTI'# 'DRIDHTI' \n"
   ]
  },
  {
   "cell_type": "code",
   "execution_count": 60,
   "metadata": {},
   "outputs": [],
   "source": [
    "def get_paths(data_pred,test=True):\n",
    "    predicted_img_p = []\n",
    "    predicted_OD_p = []\n",
    "    predicted_ODint_p = []\n",
    "    predicted_OC_p = []\n",
    "    gt_OD_p = []\n",
    "    gt_OC_p = []\n",
    "\n",
    "    for p in sorted(glob.glob(predict_path+ '/'+data_pred+'/OC/*')):\n",
    "        predicted_OC_p.append(p)\n",
    "\n",
    "    for p in sorted(glob.glob(predict_path+ '/'+data_pred+'/OD/*')):\n",
    "        predicted_OD_p.append(p)\n",
    "\n",
    "    for p in sorted(glob.glob(predict_path+ '/'+data_pred+'/OD_int/*')):\n",
    "        predicted_ODint_p.append(p)\n",
    "\n",
    "    if test:\n",
    "        for p in sorted(glob.glob(data_path + 'images/' + data_pred + '/Test/*')):\n",
    "            predicted_img_p.append(p)\n",
    "\n",
    "        for p in sorted(glob.glob(data_path + 'OC/' + data_pred + '/Test/*')):\n",
    "            gt_OC_p.append(p)\n",
    "\n",
    "        for p in sorted(glob.glob(data_path + 'OD1/' + data_pred + '/Test/*')):\n",
    "            gt_OD_p.append(p)\n",
    "    else:\n",
    "        for p in sorted(glob.glob(data_path + 'images/' + data_pred + '/*')):\n",
    "            predicted_img_p.append(p)\n",
    "\n",
    "        for p in sorted(glob.glob(data_path + 'OC/' + data_pred + '/*')):\n",
    "            gt_OC_p.append(p)\n",
    "\n",
    "        for p in sorted(glob.glob(data_path + 'OD1/' + data_pred + '/*')):\n",
    "            gt_OD_p.append(p)\n",
    "\n",
    "    return predicted_OC_p, predicted_OD_p,predicted_ODint_p, gt_OC_p, gt_OD_p\n"
   ]
  },
  {
   "cell_type": "code",
   "execution_count": 61,
   "metadata": {},
   "outputs": [],
   "source": [
    "def get_dice(pred, gt):\n",
    "    return f1_score(gt.flatten(), pred.flatten(),pos_label=255)\n",
    "\n",
    "def get_precision(pred, gt):\n",
    "    return precision_score(gt.flatten(), pred.flatten(),pos_label=255)\n",
    "\n",
    "def get_recall(pred, gt):\n",
    "    return recall_score(gt.flatten(), pred.flatten(),pos_label=255)\n",
    "        "
   ]
  },
  {
   "cell_type": "code",
   "execution_count": 89,
   "metadata": {},
   "outputs": [],
   "source": [
    "def get_metrics(predicted_OC_p, predicted_OD_p,predicted_ODint_p, gt_OC_p, gt_OD_p):\n",
    "    OD_dice = []\n",
    "    ODint_dice = []\n",
    "    OC_dice = []\n",
    "    dice_avg = []\n",
    "    OD_pr = []\n",
    "    ODint_pr = []\n",
    "    OC_pr = []\n",
    "    OD_re = []\n",
    "    ODint_re = []\n",
    "    OC_re = []\n",
    "\n",
    "    for idx in range(len(predicted_OC_p)):\n",
    "\n",
    "        if gt_OC_p[idx] != '/mnt/Almacenamiento/ODOC_segmentation/data/OC/ORIGA/359.png':\n",
    "        \n",
    "            pred_OC = np.array(Image.open(predicted_OC_p[idx]))\n",
    "            gt_OC = np.array(Image.open(gt_OC_p[idx]))\n",
    "\n",
    "            pred_OD = np.array(Image.open(predicted_OD_p[idx]))\n",
    "            w,h = pred_OD.shape\n",
    "            # pred_ODint = np.array(Image.open(predicted_ODint_p[idx]))\n",
    "            # pred_ODint = resize(pred_ODint,(w,h))\n",
    "\n",
    "            \n",
    "            # pred_ODint[pred_ODint > 0.5] = 255\n",
    "            # pred_ODint[pred_ODint <= 0.5] = 0\n",
    "\n",
    "            gt_OD = np.array(Image.open(gt_OD_p[idx]))\n",
    "\n",
    "            dice_c =get_dice(pred_OC,gt_OC)\n",
    "            dice_d = get_dice(pred_OD,gt_OD)\n",
    "            #dice_dint = get_dice(pred_ODint,gt_OD)\n",
    "            \n",
    "            OC_dice.append(dice_c)\n",
    "            OD_dice.append(dice_d)\n",
    "            #ODint_dice.append(dice_dint)\n",
    "            dice_avg.append((dice_c + dice_d) /2)\n",
    "\n",
    "            OC_pr.append(get_precision(pred_OC,gt_OC))\n",
    "            OD_pr.append(get_precision(pred_OD,gt_OD))\n",
    "            #ODint_pr.append(get_precision(pred_ODint,gt_OD))\n",
    "\n",
    "            OC_re.append(get_recall(pred_OC,gt_OC))\n",
    "            OD_re.append(get_recall(pred_OD,gt_OD))\n",
    "            #ODint_re.append(get_recall(pred_ODint,gt_OD))\n",
    "\n",
    "    return OD_dice, ODint_dice, OC_dice, dice_avg, OD_pr, ODint_pr, OC_pr, OD_re, ODint_re, OC_re\n",
    "\n"
   ]
  },
  {
   "cell_type": "code",
   "execution_count": 105,
   "metadata": {},
   "outputs": [],
   "source": [
    "p_OC_D, p_OD_D, p_ODint_D, gt_OC_D, gt_OD_D = get_paths('DRISHTI',test=True)\n",
    "p_OC_R, p_OD_R, p_ODint_R, gt_OC_R, gt_OD_R = get_paths('REFUGE',test=True)\n",
    "p_OC_O, p_OD_O, p_ODint_O, gt_OC_O, gt_OD_O = get_paths('ORIGA',test=False)\n",
    "p_OC_R3, p_OD_R3, p_ODint_R3, gt_OC_R3, gt_OD_R3 = get_paths('RIM_ONE_R3',test=False)"
   ]
  },
  {
   "cell_type": "code",
   "execution_count": 91,
   "metadata": {},
   "outputs": [],
   "source": [
    "OD_dice_D, ODint_dice_D, OC_dice_D, AVG_dice_D, OD_pr_D, ODint_pr_D, OC_pr_D, OD_re_D, ODint_re_D, OC_re_D = get_metrics(p_OC_D, p_OD_D, p_ODint_D, gt_OC_D, gt_OD_D)\n"
   ]
  },
  {
   "cell_type": "code",
   "execution_count": null,
   "metadata": {},
   "outputs": [],
   "source": [
    "OD_dice_R, ODint_dice_R, OC_dice_R, AVG_dice_R, OD_pr_R, ODint_pr_R, OC_pr_R, OD_re_R, ODint_re_R, OC_re_R = get_metrics(p_OC_R, p_OD_R, p_ODint_R, gt_OC_R, gt_OD_R)\n"
   ]
  },
  {
   "cell_type": "code",
   "execution_count": 92,
   "metadata": {},
   "outputs": [
    {
     "name": "stdout",
     "output_type": "stream",
     "text": [
      "DRISHTI: mean OD:  0.9430113714346396 0.024653589420938864  OC:  0.8301169752799916 0.11960911689401364\n"
     ]
    }
   ],
   "source": [
    "mean_OD_D = np.mean(OD_dice_D)\n",
    "std_OD_D = np.std(OD_dice_D)\n",
    "#mean_ODint_D = np.mean(ODint_dice_D)\n",
    "#std_ODint_D = np.std(ODint_dice_D)\n",
    "mean_OC_D = np.mean(OC_dice_D)\n",
    "std_OC_D = np.std(OC_dice_D)\n",
    "\n",
    "print('DRISHTI: mean OD: ', mean_OD_D , std_OD_D, ' OC: ', mean_OC_D, std_OC_D )"
   ]
  },
  {
   "cell_type": "code",
   "execution_count": 101,
   "metadata": {},
   "outputs": [
    {
     "name": "stdout",
     "output_type": "stream",
     "text": [
      "REFUGE: mean OD:  0.9139865864292588 0.04332301678388821  OC:  0.8053970385105989 0.10515722977589338\n"
     ]
    }
   ],
   "source": [
    "mean_OD_R = np.mean(OD_dice_R)\n",
    "std_OD_R = np.std(OD_dice_R)\n",
    "#mean_ODint_D = np.mean(ODint_dice_D)\n",
    "#std_ODint_D = np.std(ODint_dice_D)\n",
    "mean_OC_R = np.mean(OC_dice_R)\n",
    "std_OC_R = np.std(OC_dice_R)\n",
    "\n",
    "print('REFUGE: mean OD: ', mean_OD_R , std_OD_R, ' OC: ', mean_OC_R, std_OC_R )"
   ]
  },
  {
   "cell_type": "code",
   "execution_count": 93,
   "metadata": {},
   "outputs": [
    {
     "name": "stderr",
     "output_type": "stream",
     "text": [
      "/home/euge/anaconda3/envs/ODOC_seg/lib/python3.9/site-packages/sklearn/metrics/_classification.py:1318: UndefinedMetricWarning: Precision is ill-defined and being set to 0.0 due to no predicted samples. Use `zero_division` parameter to control this behavior.\n",
      "  _warn_prf(average, modifier, msg_start, len(result))\n"
     ]
    }
   ],
   "source": [
    "\n",
    "OD_dice_O, ODint_dice_O, OC_dice_O, AVG_dice_O, OD_pr_O, ODint_pr_O, OC_pr_O, OD_re_O, ODint_re_O, OC_re_O = get_metrics(p_OC_O, p_OD_O, p_ODint_O, gt_OC_O, gt_OD_O )\n",
    "OD_dice_R3, ODint_dice_R3, OC_dice_R3, AVG_dice_R3, OD_pr_R3, ODint_pr_R3, OC_pr_R3, OD_re_R3, ODint_re_R3, OC_re_R3 = get_metrics(p_OC_R3, p_OD_R3, p_ODint_R3, gt_OC_R3, gt_OD_R3)\n",
    "\n",
    "\n",
    "\n"
   ]
  },
  {
   "cell_type": "code",
   "execution_count": 103,
   "metadata": {},
   "outputs": [
    {
     "name": "stdout",
     "output_type": "stream",
     "text": [
      "ORIGA: mean OD:  0.9018277545942535 0.07388945461766576  OC:  0.7916544283018996 0.13175196946726345\n"
     ]
    }
   ],
   "source": [
    "mean_OD_O = np.mean(OD_dice_O)\n",
    "std_OD_O = np.std(OD_dice_O)\n",
    "#mean_ODint_D = np.mean(ODint_dice_D)\n",
    "#std_ODint_D = np.std(ODint_dice_D)\n",
    "mean_OC_O = np.mean(OC_dice_O)\n",
    "std_OC_O = np.std(OC_dice_O)\n",
    "\n",
    "print('ORIGA: mean OD: ', mean_OD_O , std_OD_O, ' OC: ', mean_OC_O, std_OC_O )"
   ]
  },
  {
   "cell_type": "code",
   "execution_count": 104,
   "metadata": {},
   "outputs": [
    {
     "name": "stdout",
     "output_type": "stream",
     "text": [
      "DRISHTI: mean OD:  0.8473379382737125 0.13394194102452797  OC:  0.6926784248327873 0.19439616926039477\n"
     ]
    }
   ],
   "source": [
    "mean_OD_R3 = np.mean(OD_dice_R3)\n",
    "std_OD_R3 = np.std(OD_dice_R3)\n",
    "#mean_ODint_D = np.mean(ODint_dice_D)\n",
    "#std_ODint_D = np.std(ODint_dice_D)\n",
    "mean_OC_R3 = np.mean(OC_dice_R3)\n",
    "std_OC_R3 = np.std(OC_dice_R3)\n",
    "\n",
    "print('DRISHTI: mean OD: ', mean_OD_R3 , std_OD_R3, ' OC: ', mean_OC_R3, std_OC_R3 )"
   ]
  },
  {
   "cell_type": "code",
   "execution_count": 94,
   "metadata": {},
   "outputs": [],
   "source": [
    "DRISHTI_dice = {'avg_DICE': AVG_dice_D, 'OC_DICE': OC_dice_D, 'OD_DICE': OD_dice_D, 'PR OD':OD_pr_D, 'PR OC':OC_pr_D, 'RECALL OD':OD_re_D, 'RECALL OC':OC_re_D}\n",
    "df_DRISHTI = pd.DataFrame(data=DRISHTI_dice)\n",
    "\n",
    "REFUGE_dice = {'avg_DICE': AVG_dice_R, 'OC_DICE': OC_dice_R, 'OD_DICE': OD_dice_R, 'PR OD':OD_pr_R, 'PR OC':OC_pr_R, 'RECALL OD':OD_re_R, 'RECALL OC':OC_re_R}\n",
    "df_REFUGE = pd.DataFrame(data=REFUGE_dice)\n",
    "\n",
    "ORIGA_dice = {'avg_DICE': AVG_dice_O, 'OC_DICE': OC_dice_O, 'OD_DICE': OD_dice_O, 'PR OD':OD_pr_O, 'PR OC':OC_pr_O, 'RECALL OD':OD_re_O, 'RECALL OC':OC_re_O}\n",
    "df_ORIGA = pd.DataFrame(data=ORIGA_dice)\n",
    "\n",
    "RIMONE3_dice = {'avg_DICE': AVG_dice_R3, 'OC_DICE': OC_dice_R3, 'OD_DICE': OD_dice_R3, 'PR OD':OD_pr_R3, 'PR OC':OC_pr_R3, 'RECALL OD':OD_re_R3, 'RECALL OC':OC_re_R3}\n",
    "df_RIMONE = pd.DataFrame(data=RIMONE3_dice)\n",
    "\n",
    "\n",
    "\n",
    "df = {'DRISHTI':DRISHTI_dice, 'REFUGE': REFUGE_dice, 'RIM_ONE_R3': RIMONE3_dice}"
   ]
  },
  {
   "cell_type": "code",
   "execution_count": 142,
   "metadata": {},
   "outputs": [
    {
     "data": {
      "text/plain": [
       "<bound method NDFrame._add_numeric_operations.<locals>.mean of     avg_DICE   OC_DICE   OD_DICE     PR OD     PR OC  RECALL OD  RECALL OC\n",
       "0   0.912701  0.886584  0.938818  0.890483  0.987579   0.992701   0.804330\n",
       "1   0.842866  0.707605  0.978127  0.962238  1.000000   0.994550   0.547514\n",
       "2   0.599336  0.357295  0.841377  0.989924  1.000000   0.731595   0.217504\n",
       "3   0.778223  0.627187  0.929259  0.988563  1.000000   0.876667   0.456862\n",
       "4   0.807846  0.667081  0.948610  0.918538  0.665219   0.980718   0.668954\n",
       "5   0.894655  0.857744  0.931566  0.997224  0.993155   0.874020   0.754828\n",
       "6   0.800166  0.861616  0.738716  0.604823  0.784323   0.948745   0.955809\n",
       "7   0.857182  0.774945  0.939420  0.999969  1.000000   0.885785   0.632580\n",
       "8   0.936723  0.892731  0.980715  0.979545  0.999206   0.981889   0.806762\n",
       "9   0.890325  0.819085  0.961565  0.937781  0.953255   0.986586   0.718024\n",
       "10  0.921063  0.911220  0.930906  0.884527  0.948050   0.982419   0.877145\n",
       "11  0.459034  0.105583  0.812485  0.999980  1.000000   0.684198   0.055734\n",
       "12  0.926737  0.910835  0.942639  0.891523  0.867745   0.999973   0.958429\n",
       "13  0.627279  0.641346  0.613212  1.000000  1.000000   0.442182   0.472045\n",
       "14  0.768402  0.737652  0.799152  1.000000  1.000000   0.665490   0.584349\n",
       "15  0.879630  0.796130  0.963130  0.968147  1.000000   0.958164   0.661309\n",
       "16  0.938762  0.898328  0.979196  0.963694  0.896945   0.995205   0.899716\n",
       "17  0.909188  0.869558  0.948819  0.976777  0.949876   0.922417   0.801764\n",
       "18  0.749765  0.599583  0.899946  0.987620  1.000000   0.826570   0.428146\n",
       "19  0.481795  0.051253  0.912336  0.999834  1.000000   0.838920   0.026301\n",
       "20  0.870922  0.759064  0.982780  0.973911  0.993666   0.991812   0.614081\n",
       "21  0.485574  0.109334  0.861814  1.000000  1.000000   0.757182   0.057828\n",
       "22  0.913832  0.870971  0.956692  0.918161  0.778926   0.998600   0.987685\n",
       "23  0.910840  0.855324  0.966356  0.975923  0.961792   0.956976   0.770079\n",
       "24  0.803746  0.663721  0.943771  0.911557  1.000000   0.978345   0.496693\n",
       "25  0.863328  0.768796  0.957859  0.975906  0.999966   0.940467   0.624440\n",
       "26  0.727485  0.487384  0.967586  0.974687  0.673620   0.960588   0.381822\n",
       "27  0.813749  0.704797  0.922700  0.919729  1.000000   0.925689   0.544160\n",
       "28  0.945413  0.915829  0.974997  0.972888  0.996696   0.977115   0.847100\n",
       "29  0.827771  0.688267  0.967275  0.973141  0.907368   0.961480   0.554397\n",
       "30  0.905520  0.846093  0.964946  0.987797  0.997189   0.943128   0.734761\n",
       "31  0.916441  0.857374  0.975508  0.987087  0.862508   0.964197   0.852300\n",
       "32  0.910284  0.848764  0.971805  0.972760  0.851219   0.970853   0.846323\n",
       "33  0.787364  0.656297  0.918431  0.995155  1.000000   0.852692   0.488424\n",
       "34  0.625392  0.275180  0.975603  0.990201  1.000000   0.961429   0.159542\n",
       "35  0.903668  0.845778  0.961559  0.953265  0.732769   0.969997   1.000000\n",
       "36  0.927745  0.885606  0.969883  0.960525  0.828425   0.979426   0.951267\n",
       "37  0.870769  0.804174  0.937364  0.882576  0.997726   0.999403   0.673517\n",
       "38  0.906555  0.858417  0.954693  0.936311  0.756359   0.973810   0.992314\n",
       "39  0.909994  0.888283  0.931704  0.877686  0.824200   0.992807   0.963171\n",
       "40  0.945423  0.923441  0.967405  0.949850  0.935853   0.985622   0.911355\n",
       "41  0.902112  0.885309  0.918915  0.997775  0.993273   0.851608   0.798514\n",
       "42  0.947149  0.918347  0.975951  0.985086  0.968387   0.966984   0.873224\n",
       "43  0.848326  0.747559  0.949093  0.906124  0.604967   0.996340   0.978097\n",
       "44  0.458076  0.045984  0.870168  0.994977  1.000000   0.773181   0.023533\n",
       "45  0.723574  0.651544  0.795604  0.661015  0.486887   0.999010   0.984476\n",
       "46  0.475282  0.006587  0.943977  0.954985  0.006880   0.933220   0.006318\n",
       "47  0.843091  0.735804  0.950377  0.913856  0.588737   0.989939   0.980813\n",
       "48  0.864960  0.774216  0.955704  0.917230  0.642627   0.997547   0.973571\n",
       "49  0.605940  0.373359  0.838521  0.724872  0.429402   0.994432   0.330257>"
      ]
     },
     "execution_count": 142,
     "metadata": {},
     "output_type": "execute_result"
    }
   ],
   "source": [
    "df_DRISHTI.mean"
   ]
  },
  {
   "cell_type": "code",
   "execution_count": 95,
   "metadata": {},
   "outputs": [
    {
     "data": {
      "text/plain": [
       "Text(0.5, 1.0, 'avg')"
      ]
     },
     "execution_count": 95,
     "metadata": {},
     "output_type": "execute_result"
    },
    {
     "data": {
      "image/png": "[encoded data removed]",
      "text/plain": [
       "<Figure size 432x288 with 1 Axes>"
      ]
     },
     "metadata": {},
     "output_type": "display_data"
    }
   ],
   "source": [
    "sns.set_theme(style=\"whitegrid\")\n",
    "ax = sns.boxplot(data=(DRISHTI_dice['avg_DICE'],REFUGE_dice['avg_DICE'],RIMONE3_dice['avg_DICE']))\n",
    "ax.set_title('avg')"
   ]
  },
  {
   "cell_type": "code",
   "execution_count": 96,
   "metadata": {},
   "outputs": [
    {
     "data": {
      "text/plain": [
       "Text(0.5, 1.0, 'DRISHTI')"
      ]
     },
     "execution_count": 96,
     "metadata": {},
     "output_type": "execute_result"
    },
    {
     "data": {
      "image/png": "[encoded data removed]",
      "text/plain": [
       "<Figure size 432x288 with 1 Axes>"
      ]
     },
     "metadata": {},
     "output_type": "display_data"
    }
   ],
   "source": [
    "sns.set_theme(style=\"whitegrid\")\n",
    "ax = sns.boxplot(data=df_DRISHTI)\n",
    "ax.set_title('DRISHTI')"
   ]
  },
  {
   "cell_type": "code",
   "execution_count": 97,
   "metadata": {},
   "outputs": [
    {
     "data": {
      "text/plain": [
       "Text(0.5, 1.0, 'REFUGE')"
      ]
     },
     "execution_count": 97,
     "metadata": {},
     "output_type": "execute_result"
    },
    {
     "data": {
      "image/png": "[encoded data removed]",
      "text/plain": [
       "<Figure size 432x288 with 1 Axes>"
      ]
     },
     "metadata": {},
     "output_type": "display_data"
    }
   ],
   "source": [
    "\n",
    "sns.set_theme(style=\"whitegrid\")\n",
    "ax = sns.boxplot(data=df_REFUGE)\n",
    "ax.set_title('REFUGE')"
   ]
  },
  {
   "cell_type": "code",
   "execution_count": 98,
   "metadata": {},
   "outputs": [
    {
     "data": {
      "text/plain": [
       "Text(0.5, 1.0, 'ORIGA')"
      ]
     },
     "execution_count": 98,
     "metadata": {},
     "output_type": "execute_result"
    },
    {
     "data": {
      "image/png": "[encoded data removed]",
      "text/plain": [
       "<Figure size 432x288 with 1 Axes>"
      ]
     },
     "metadata": {},
     "output_type": "display_data"
    }
   ],
   "source": [
    "sns.set_theme(style=\"whitegrid\")\n",
    "ax = sns.boxplot(data=df_ORIGA)\n",
    "ax.set_title('ORIGA')"
   ]
  },
  {
   "cell_type": "code",
   "execution_count": 99,
   "metadata": {},
   "outputs": [
    {
     "ename": "KeyError",
     "evalue": "0",
     "output_type": "error",
     "traceback": [
      "\u001b[0;31m---------------------------------------------------------------------------\u001b[0m",
      "\u001b[0;31mKeyError\u001b[0m                                  Traceback (most recent call last)",
      "\u001b[1;32m/mnt/Almacenamiento/ODOC_segmentation/codigo/Figure_box-plot_metrics.ipynb Cell 18'\u001b[0m in \u001b[0;36m<cell line: 2>\u001b[0;34m()\u001b[0m\n\u001b[1;32m      <a href='vscode-notebook-cell:/mnt/Almacenamiento/ODOC_segmentation/codigo/Figure_box-plot_metrics.ipynb#ch0000014?line=0'>1</a>\u001b[0m sns\u001b[39m.\u001b[39mset_theme(style\u001b[39m=\u001b[39m\u001b[39m\"\u001b[39m\u001b[39mwhitegrid\u001b[39m\u001b[39m\"\u001b[39m)\n\u001b[0;32m----> <a href='vscode-notebook-cell:/mnt/Almacenamiento/ODOC_segmentation/codigo/Figure_box-plot_metrics.ipynb#ch0000014?line=1'>2</a>\u001b[0m ax \u001b[39m=\u001b[39m sns\u001b[39m.\u001b[39;49mboxplot(data\u001b[39m=\u001b[39;49mdf)\n\u001b[1;32m      <a href='vscode-notebook-cell:/mnt/Almacenamiento/ODOC_segmentation/codigo/Figure_box-plot_metrics.ipynb#ch0000014?line=2'>3</a>\u001b[0m ax\u001b[39m.\u001b[39mset_title(\u001b[39m'\u001b[39m\u001b[39mRIMEONE\u001b[39m\u001b[39m'\u001b[39m)\n",
      "File \u001b[0;32m~/anaconda3/envs/ODOC_seg/lib/python3.9/site-packages/seaborn/_decorators.py:46\u001b[0m, in \u001b[0;36m_deprecate_positional_args.<locals>.inner_f\u001b[0;34m(*args, **kwargs)\u001b[0m\n\u001b[1;32m     <a href='file:///home/euge/anaconda3/envs/ODOC_seg/lib/python3.9/site-packages/seaborn/_decorators.py?line=35'>36</a>\u001b[0m     warnings\u001b[39m.\u001b[39mwarn(\n\u001b[1;32m     <a href='file:///home/euge/anaconda3/envs/ODOC_seg/lib/python3.9/site-packages/seaborn/_decorators.py?line=36'>37</a>\u001b[0m         \u001b[39m\"\u001b[39m\u001b[39mPass the following variable\u001b[39m\u001b[39m{}\u001b[39;00m\u001b[39m as \u001b[39m\u001b[39m{}\u001b[39;00m\u001b[39mkeyword arg\u001b[39m\u001b[39m{}\u001b[39;00m\u001b[39m: \u001b[39m\u001b[39m{}\u001b[39;00m\u001b[39m. \u001b[39m\u001b[39m\"\u001b[39m\n\u001b[1;32m     <a href='file:///home/euge/anaconda3/envs/ODOC_seg/lib/python3.9/site-packages/seaborn/_decorators.py?line=37'>38</a>\u001b[0m         \u001b[39m\"\u001b[39m\u001b[39mFrom version 0.12, the only valid positional argument \u001b[39m\u001b[39m\"\u001b[39m\n\u001b[0;32m   (...)\u001b[0m\n\u001b[1;32m     <a href='file:///home/euge/anaconda3/envs/ODOC_seg/lib/python3.9/site-packages/seaborn/_decorators.py?line=42'>43</a>\u001b[0m         \u001b[39mFutureWarning\u001b[39;00m\n\u001b[1;32m     <a href='file:///home/euge/anaconda3/envs/ODOC_seg/lib/python3.9/site-packages/seaborn/_decorators.py?line=43'>44</a>\u001b[0m     )\n\u001b[1;32m     <a href='file:///home/euge/anaconda3/envs/ODOC_seg/lib/python3.9/site-packages/seaborn/_decorators.py?line=44'>45</a>\u001b[0m kwargs\u001b[39m.\u001b[39mupdate({k: arg \u001b[39mfor\u001b[39;00m k, arg \u001b[39min\u001b[39;00m \u001b[39mzip\u001b[39m(sig\u001b[39m.\u001b[39mparameters, args)})\n\u001b[0;32m---> <a href='file:///home/euge/anaconda3/envs/ODOC_seg/lib/python3.9/site-packages/seaborn/_decorators.py?line=45'>46</a>\u001b[0m \u001b[39mreturn\u001b[39;00m f(\u001b[39m*\u001b[39;49m\u001b[39m*\u001b[39;49mkwargs)\n",
      "File \u001b[0;32m~/anaconda3/envs/ODOC_seg/lib/python3.9/site-packages/seaborn/categorical.py:2243\u001b[0m, in \u001b[0;36mboxplot\u001b[0;34m(x, y, hue, data, order, hue_order, orient, color, palette, saturation, width, dodge, fliersize, linewidth, whis, ax, **kwargs)\u001b[0m\n\u001b[1;32m   <a href='file:///home/euge/anaconda3/envs/ODOC_seg/lib/python3.9/site-packages/seaborn/categorical.py?line=2230'>2231</a>\u001b[0m \u001b[39m@_deprecate_positional_args\u001b[39m\n\u001b[1;32m   <a href='file:///home/euge/anaconda3/envs/ODOC_seg/lib/python3.9/site-packages/seaborn/categorical.py?line=2231'>2232</a>\u001b[0m \u001b[39mdef\u001b[39;00m \u001b[39mboxplot\u001b[39m(\n\u001b[1;32m   <a href='file:///home/euge/anaconda3/envs/ODOC_seg/lib/python3.9/site-packages/seaborn/categorical.py?line=2232'>2233</a>\u001b[0m     \u001b[39m*\u001b[39m,\n\u001b[0;32m   (...)\u001b[0m\n\u001b[1;32m   <a href='file:///home/euge/anaconda3/envs/ODOC_seg/lib/python3.9/site-packages/seaborn/categorical.py?line=2239'>2240</a>\u001b[0m     \u001b[39m*\u001b[39m\u001b[39m*\u001b[39mkwargs\n\u001b[1;32m   <a href='file:///home/euge/anaconda3/envs/ODOC_seg/lib/python3.9/site-packages/seaborn/categorical.py?line=2240'>2241</a>\u001b[0m ):\n\u001b[0;32m-> <a href='file:///home/euge/anaconda3/envs/ODOC_seg/lib/python3.9/site-packages/seaborn/categorical.py?line=2242'>2243</a>\u001b[0m     plotter \u001b[39m=\u001b[39m _BoxPlotter(x, y, hue, data, order, hue_order,\n\u001b[1;32m   <a href='file:///home/euge/anaconda3/envs/ODOC_seg/lib/python3.9/site-packages/seaborn/categorical.py?line=2243'>2244</a>\u001b[0m                           orient, color, palette, saturation,\n\u001b[1;32m   <a href='file:///home/euge/anaconda3/envs/ODOC_seg/lib/python3.9/site-packages/seaborn/categorical.py?line=2244'>2245</a>\u001b[0m                           width, dodge, fliersize, linewidth)\n\u001b[1;32m   <a href='file:///home/euge/anaconda3/envs/ODOC_seg/lib/python3.9/site-packages/seaborn/categorical.py?line=2246'>2247</a>\u001b[0m     \u001b[39mif\u001b[39;00m ax \u001b[39mis\u001b[39;00m \u001b[39mNone\u001b[39;00m:\n\u001b[1;32m   <a href='file:///home/euge/anaconda3/envs/ODOC_seg/lib/python3.9/site-packages/seaborn/categorical.py?line=2247'>2248</a>\u001b[0m         ax \u001b[39m=\u001b[39m plt\u001b[39m.\u001b[39mgca()\n",
      "File \u001b[0;32m~/anaconda3/envs/ODOC_seg/lib/python3.9/site-packages/seaborn/categorical.py:406\u001b[0m, in \u001b[0;36m_BoxPlotter.__init__\u001b[0;34m(self, x, y, hue, data, order, hue_order, orient, color, palette, saturation, width, dodge, fliersize, linewidth)\u001b[0m\n\u001b[1;32m    <a href='file:///home/euge/anaconda3/envs/ODOC_seg/lib/python3.9/site-packages/seaborn/categorical.py?line=401'>402</a>\u001b[0m \u001b[39mdef\u001b[39;00m \u001b[39m__init__\u001b[39m(\u001b[39mself\u001b[39m, x, y, hue, data, order, hue_order,\n\u001b[1;32m    <a href='file:///home/euge/anaconda3/envs/ODOC_seg/lib/python3.9/site-packages/seaborn/categorical.py?line=402'>403</a>\u001b[0m              orient, color, palette, saturation,\n\u001b[1;32m    <a href='file:///home/euge/anaconda3/envs/ODOC_seg/lib/python3.9/site-packages/seaborn/categorical.py?line=403'>404</a>\u001b[0m              width, dodge, fliersize, linewidth):\n\u001b[0;32m--> <a href='file:///home/euge/anaconda3/envs/ODOC_seg/lib/python3.9/site-packages/seaborn/categorical.py?line=405'>406</a>\u001b[0m     \u001b[39mself\u001b[39;49m\u001b[39m.\u001b[39;49mestablish_variables(x, y, hue, data, orient, order, hue_order)\n\u001b[1;32m    <a href='file:///home/euge/anaconda3/envs/ODOC_seg/lib/python3.9/site-packages/seaborn/categorical.py?line=406'>407</a>\u001b[0m     \u001b[39mself\u001b[39m\u001b[39m.\u001b[39mestablish_colors(color, palette, saturation)\n\u001b[1;32m    <a href='file:///home/euge/anaconda3/envs/ODOC_seg/lib/python3.9/site-packages/seaborn/categorical.py?line=408'>409</a>\u001b[0m     \u001b[39mself\u001b[39m\u001b[39m.\u001b[39mdodge \u001b[39m=\u001b[39m dodge\n",
      "File \u001b[0;32m~/anaconda3/envs/ODOC_seg/lib/python3.9/site-packages/seaborn/categorical.py:118\u001b[0m, in \u001b[0;36m_CategoricalPlotter.establish_variables\u001b[0;34m(self, x, y, hue, data, orient, order, hue_order, units)\u001b[0m\n\u001b[1;32m    <a href='file:///home/euge/anaconda3/envs/ODOC_seg/lib/python3.9/site-packages/seaborn/categorical.py?line=114'>115</a>\u001b[0m     plot_data \u001b[39m=\u001b[39m [[]]\n\u001b[1;32m    <a href='file:///home/euge/anaconda3/envs/ODOC_seg/lib/python3.9/site-packages/seaborn/categorical.py?line=116'>117</a>\u001b[0m \u001b[39m# The input data is a flat list\u001b[39;00m\n\u001b[0;32m--> <a href='file:///home/euge/anaconda3/envs/ODOC_seg/lib/python3.9/site-packages/seaborn/categorical.py?line=117'>118</a>\u001b[0m \u001b[39melif\u001b[39;00m np\u001b[39m.\u001b[39misscalar(data[\u001b[39m0\u001b[39;49m]):\n\u001b[1;32m    <a href='file:///home/euge/anaconda3/envs/ODOC_seg/lib/python3.9/site-packages/seaborn/categorical.py?line=118'>119</a>\u001b[0m     plot_data \u001b[39m=\u001b[39m [data]\n\u001b[1;32m    <a href='file:///home/euge/anaconda3/envs/ODOC_seg/lib/python3.9/site-packages/seaborn/categorical.py?line=120'>121</a>\u001b[0m \u001b[39m# The input data is a nested list\u001b[39;00m\n\u001b[1;32m    <a href='file:///home/euge/anaconda3/envs/ODOC_seg/lib/python3.9/site-packages/seaborn/categorical.py?line=121'>122</a>\u001b[0m \u001b[39m# This will catch some things that might fail later\u001b[39;00m\n\u001b[1;32m    <a href='file:///home/euge/anaconda3/envs/ODOC_seg/lib/python3.9/site-packages/seaborn/categorical.py?line=122'>123</a>\u001b[0m \u001b[39m# but exhaustive checks are hard\u001b[39;00m\n\u001b[1;32m    <a href='file:///home/euge/anaconda3/envs/ODOC_seg/lib/python3.9/site-packages/seaborn/categorical.py?line=123'>124</a>\u001b[0m \u001b[39melse\u001b[39;00m:\n",
      "\u001b[0;31mKeyError\u001b[0m: 0"
     ]
    }
   ],
   "source": [
    "sns.set_theme(style=\"whitegrid\")\n",
    "ax = sns.boxplot(data=df)\n",
    "ax.set_title('RIMEONE')"
   ]
  }
 ],
 "metadata": {
  "interpreter": {
   "hash": "1fa392e5060ec9c6da8d2dc0147a263826c21c6511f83c4a1912db95507dc2a5"
  },
  "kernelspec": {
   "display_name": "Python 3.9.10 ('ODOC_seg')",
   "language": "python",
   "name": "python3"
  },
  "language_info": {
   "codemirror_mode": {
    "name": "ipython",
    "version": 3
   },
   "file_extension": ".py",
   "mimetype": "text/x-python",
   "name": "python",
   "nbconvert_exporter": "python",
   "pygments_lexer": "ipython3",
   "version": "3.9.10"
  },
  "orig_nbformat": 4
 },
 "nbformat": 4,
 "nbformat_minor": 2
}
